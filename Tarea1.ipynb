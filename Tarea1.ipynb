{
  "nbformat": 4,
  "nbformat_minor": 0,
  "metadata": {
    "colab": {
      "name": "Tarea1.ipynb",
      "provenance": [],
      "collapsed_sections": [],
      "authorship_tag": "ABX9TyNLhT7xRyYwRMifGY/o9iHE",
      "include_colab_link": true
    },
    "kernelspec": {
      "name": "python3",
      "display_name": "Python 3"
    },
    "language_info": {
      "name": "python"
    }
  },
  "cells": [
    {
      "cell_type": "markdown",
      "metadata": {
        "id": "view-in-github",
        "colab_type": "text"
      },
      "source": [
        "<a href=\"https://colab.research.google.com/github/MarianaCGlz/Tarea-clases/blob/main/Tarea1.ipynb\" target=\"_parent\"><img src=\"https://colab.research.google.com/assets/colab-badge.svg\" alt=\"Open In Colab\"/></a>"
      ]
    },
    {
      "cell_type": "markdown",
      "source": [
        "1.\n",
        "\n",
        "# Tarea 1 \n",
        "## Métodos numéricos \n",
        "#### Mariana Camacho González \n",
        "##### NUA : 427277"
      ],
      "metadata": {
        "id": "WsiFzegxOM2D"
      }
    },
    {
      "cell_type": "code",
      "source": [
        "import numpy as np \n",
        "import sympy as sp\n",
        "import matplotlib.pyplot as plt\n"
      ],
      "metadata": {
        "id": "wbKdtPwHPoij"
      },
      "execution_count": 31,
      "outputs": []
    },
    {
      "cell_type": "code",
      "source": [
        "# 2. Arreglo con números pares entre el 50 y 82 \n",
        "\n",
        "#Uso del método arange (inicio, final, condición)\n",
        "np.arange(50,84,2)"
      ],
      "metadata": {
        "colab": {
          "base_uri": "https://localhost:8080/"
        },
        "id": "ZQEXSWygPq7y",
        "outputId": "94db4a9b-432f-4767-f0d7-64ef9f4b48b3"
      },
      "execution_count": 8,
      "outputs": [
        {
          "output_type": "execute_result",
          "data": {
            "text/plain": [
              "array([50, 52, 54, 56, 58, 60, 62, 64, 66, 68, 70, 72, 74, 76, 78, 80, 82])"
            ]
          },
          "metadata": {},
          "execution_count": 8
        }
      ]
    },
    {
      "cell_type": "code",
      "source": [
        "# 3. Función que calcule el factorial de un número utilizando for\n"
      ],
      "metadata": {
        "id": "BUjVfkdOR8T0"
      },
      "execution_count": null,
      "outputs": []
    },
    {
      "cell_type": "code",
      "source": [
        "# 4. Función que calcule el factorial utilizando el while \n"
      ],
      "metadata": {
        "id": "1Sh5jkynS37r"
      },
      "execution_count": null,
      "outputs": []
    },
    {
      "cell_type": "code",
      "source": [
        "# 5. Una matriz de 5x5 donde la última línea está compuesta de números 8 y el resto con 3 \n",
        "\n",
        "matriz = np.array([[3, 3, 3, 3 , 3],[3, 3, 3, 3 , 3 ], [3, 3, 3, 3 , 3 ], [3, 3, 3, 3 , 3 ] ,[8, 8, 8, 8 , 8]])\n",
        "matriz"
      ],
      "metadata": {
        "colab": {
          "base_uri": "https://localhost:8080/"
        },
        "id": "8z9YWng8S9GC",
        "outputId": "c581828d-9208-4e06-aed1-0139b52a2b5c"
      },
      "execution_count": 18,
      "outputs": [
        {
          "output_type": "execute_result",
          "data": {
            "text/plain": [
              "array([[3, 3, 3, 3, 3],\n",
              "       [3, 3, 3, 3, 3],\n",
              "       [3, 3, 3, 3, 3],\n",
              "       [3, 3, 3, 3, 3],\n",
              "       [8, 8, 8, 8, 8]])"
            ]
          },
          "metadata": {},
          "execution_count": 18
        }
      ]
    },
    {
      "cell_type": "code",
      "source": [
        "# 6. Fórmulas en modo matemático\n",
        "\n",
        "x , y = sp.symbols('x y ')\n",
        "\n",
        "def f_x \n",
        "\n",
        "expr1  = 1 / (x + 4) \n",
        "expr1"
      ],
      "metadata": {
        "colab": {
          "base_uri": "https://localhost:8080/",
          "height": 52
        },
        "id": "YT8zJkNEVjH6",
        "outputId": "e8b29ec7-ead3-4a68-a6a0-16e26af131a9"
      },
      "execution_count": 28,
      "outputs": [
        {
          "output_type": "execute_result",
          "data": {
            "text/latex": "$\\displaystyle \\frac{1}{x + 4}$",
            "text/plain": [
              "1/(x + 4)"
            ]
          },
          "metadata": {},
          "execution_count": 28
        }
      ]
    },
    {
      "cell_type": "code",
      "source": [
        "expr2 = x / (x**2+4)\n",
        "expr2"
      ],
      "metadata": {
        "colab": {
          "base_uri": "https://localhost:8080/",
          "height": 49
        },
        "id": "XlBzN3TwXTDz",
        "outputId": "939f7546-1334-423b-e81e-d30cd3cd57a7"
      },
      "execution_count": 29,
      "outputs": [
        {
          "output_type": "execute_result",
          "data": {
            "text/latex": "$\\displaystyle \\frac{x}{x^{2} + 4}$",
            "text/plain": [
              "x/(x**2 + 4)"
            ]
          },
          "metadata": {},
          "execution_count": 29
        }
      ]
    },
    {
      "cell_type": "code",
      "source": [
        "def f_x(x):\n",
        "  return 1 / (x + 4) \n",
        "\n",
        "def g_x(y):\n",
        "\n",
        "  return y / (y**2+4)  \n",
        "  "
      ],
      "metadata": {
        "id": "f0ImULDjaPu4"
      },
      "execution_count": 51,
      "outputs": []
    },
    {
      "cell_type": "code",
      "source": [
        "# 7. Gráfica con f(x) y g(x) entre -1 y 10 \n",
        "\n",
        "graf = np.arange(-1,10.25,0.25)\n",
        "\n",
        "plt.xlabel('f(x)') \n",
        "plt.ylabel('g(x)')\n",
        "plt.plot(graf,f_x(graf), 'o-', color = 'pink')\n",
        "plt.plot(graf,g_x(graf), 'r--', color = 'blue')\n",
        "plt.show()"
      ],
      "metadata": {
        "colab": {
          "base_uri": "https://localhost:8080/",
          "height": 279
        },
        "id": "uuwIjumXXYSx",
        "outputId": "f531adde-b423-4e44-f1ca-339e7cf30080"
      },
      "execution_count": 53,
      "outputs": [
        {
          "output_type": "display_data",
          "data": {
            "image/png": "[encoded data removed]",
            "text/plain": [
              "<Figure size 432x288 with 1 Axes>"
            ]
          },
          "metadata": {
            "needs_background": "light"
          }
        }
      ]
    }
  ]
}